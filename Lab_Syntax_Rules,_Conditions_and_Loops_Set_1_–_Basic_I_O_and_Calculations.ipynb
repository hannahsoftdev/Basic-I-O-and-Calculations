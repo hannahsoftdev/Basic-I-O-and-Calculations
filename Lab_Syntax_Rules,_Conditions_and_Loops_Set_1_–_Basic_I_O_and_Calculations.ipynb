{
  "cells": [
    {
      "cell_type": "markdown",
      "metadata": {
        "id": "29CU4vA5gZ-Z"
      },
      "source": [
        "1. Student information"
      ]
    },
    {
      "cell_type": "code",
      "execution_count": null,
      "metadata": {
        "id": "6ocBUCvneszR"
      },
      "outputs": [
        {
          "ename": "",
          "evalue": "",
          "output_type": "error",
          "traceback": [
            "\u001b[1;31mRunning cells with 'Python 3.12.3' requires the ipykernel package.\n",
            "\u001b[1;31mRun the following command to install 'ipykernel' into the Python environment. \n",
            "\u001b[1;31mCommand: 'c:/Users/hanna/AppData/Local/Programs/Python/Python312/python.exe -m pip install ipykernel -U --user --force-reinstall'"
          ]
        }
      ],
      "source": [
        "first_name=input(\"What is your first name?\")\n",
        "last_name=input(\"what is your last name?\")\n",
        "age=input(\"How old are you?\")\n",
        "gpa=input(\"What is your GPA?\")\n",
        "major=input(\"What is your major?\")\n",
        "address=input(\"What is your address?\")\n",
        "print(\"Welcome to SAIT!\", first_name, last_name, \"you are currently\", age, \"years old and have a GPA of\", gpa, \"in\", major, \"all while residing at\", address)"
      ]
    },
    {
      "cell_type": "markdown",
      "metadata": {
        "id": "jUw9YhvqggCg"
      },
      "source": [
        "3. Area of trapeziod"
      ]
    },
    {
      "cell_type": "code",
      "execution_count": null,
      "metadata": {
        "id": "UAlz9JexfrkA"
      },
      "outputs": [],
      "source": [
        "b1=int(input(\"What is the length of base 1?\"))\n",
        "b2=int(input(\"What is the length of base 2?\"))\n",
        "h=int(input(\"What is the height?\"))\n",
        "\n",
        "a = b1+b2\n",
        "b = a/2\n",
        "\n",
        "area = b*h\n",
        "\n",
        "print(\"The area of the trapezoid is:\", area)"
      ]
    },
    {
      "cell_type": "markdown",
      "metadata": {
        "id": "Zqcbir7wgjxe"
      },
      "source": [
        "6. Volume of a cube"
      ]
    },
    {
      "cell_type": "code",
      "execution_count": null,
      "metadata": {
        "id": "8SP0w-Eff-eP"
      },
      "outputs": [],
      "source": [
        "l=int(4)\n",
        "\n",
        "v = l*l*l\n",
        "\n",
        "print(\"The volume of the cube is:\", v, \"cm\")"
      ]
    },
    {
      "cell_type": "markdown",
      "metadata": {
        "id": "BrzyXoVOgmka"
      },
      "source": [
        "7. Area and circumference of a circle"
      ]
    },
    {
      "cell_type": "code",
      "execution_count": null,
      "metadata": {
        "id": "Xc1qUJh4gGRD"
      },
      "outputs": [],
      "source": [
        "radius=int(2)\n",
        "pi=float(3.14)\n",
        "\n",
        "diameter = radius*2\n",
        "area = pi*radius*radius\n",
        "circumference = pi*diameter\n",
        "\n",
        "print(\"The area of the circle is\", area, \"cm with a circumference of\", circumference, \"cm\")"
      ]
    },
    {
      "cell_type": "markdown",
      "metadata": {
        "id": "b5XxaKd3grse"
      },
      "source": [
        "8. Average of integers"
      ]
    },
    {
      "cell_type": "code",
      "execution_count": null,
      "metadata": {
        "id": "qWfb13pugSSF"
      },
      "outputs": [],
      "source": [
        "numbers = [1, 2, 3, 4, 5]\n",
        "\n",
        "a=int(sum(numbers)/5)\n",
        "\n",
        "print(\"The average of these five numbers are:\", a)"
      ]
    }
  ],
  "metadata": {
    "colab": {
      "provenance": []
    },
    "kernelspec": {
      "display_name": "Python 3",
      "name": "python3"
    },
    "language_info": {
      "name": "python",
      "version": "3.12.3"
    }
  },
  "nbformat": 4,
  "nbformat_minor": 0
}
